{
 "cells": [
  {
   "cell_type": "markdown",
   "metadata": {},
   "source": [
    "# Basic Command Syntax\n",
    "\n",
    "This module deals exclusively with the CLI or Command Line Interface, rather than a GUI or Graphical User Interface you may be familiar with. The CLI terminal is a powerful tool that is often the primary method used to administer small low-power devices, extremely capable cloud computing servers, and everything in between. A basic understanding of the terminal is essential to diagnosing and fixing most Linux based systems. Since Linux has now become so ubiquitous, even those who plan on working primarily with systems not utilizing the Linux kernel can benefit from having a basic understanding of the terminal.\n",
    "\n",
    "What is a command? A command is a software program that when executed on the CLI (command line interface), performs an action on the computer. When you type in a command, a process is run by the operating system that can read input, manipulate data and produce output. A command runs a process on the operating system, which then causes the computer to perform a job.\n",
    "\n",
    "\n",
    "To execute a command, the first step is to type the name of the command. Click in the terminal on the right. Type **ls** and hit Enter. The result should resemble the example below:\n",
    "\n",
    "**sysadmin@localhost:~$ ls**\n",
    "\n",
    "**Desktop  Documents  Downloads  Music  Pictures  Public  Templates  Videos**"
   ]
  },
  {
   "cell_type": "markdown",
   "metadata": {},
   "source": [
    "The name of the command is often based on what it does or what the developer who created the command thinks will best describe the command's function. For example, the ls command displays a listing of information about files. Associating the name of the command with something mnemonic for what it does may help you to remember commands more easily."
   ]
  },
  {
   "cell_type": "markdown",
   "metadata": {},
   "source": [
    "Consider This\n",
    "\n",
    "Every part of the command is normally case-sensitive, so **LS** is incorrect and will fail, but **ls** is correct and will execute.\n",
    "\n",
    "**sysadmin@localhost:~$ LS**\n",
    "\n",
    "**-bash: /usr/games/LS: Permission denied**"
   ]
  },
  {
   "cell_type": "markdown",
   "metadata": {},
   "source": [
    "---\n",
    "Most commands follow a simple pattern of syntax:\n",
    "    \n",
    "command [options…] [arguments…]\n",
    "\n",
    "---"
   ]
  },
  {
   "cell_type": "markdown",
   "metadata": {},
   "source": [
    "In other words, you type a command, followed by any options and/or arguments before pressing the Enter key. Typically ***options*** alter the behavior of the command and arguments are items or values for the command to act upon. Although there are some commands in Linux that aren’t entirely consistent with this syntax, most commands use this syntax or something similar.\n",
    "\n",
    "In the example above, the **<mark>ls</mark>** command was executed without any options or arguments. When this is the case, it’s default behavior is to return a list of files contained within the current directory."
   ]
  },
  {
   "cell_type": "markdown",
   "metadata": {},
   "source": [
    "**sysadmin@localhost:~$ ls**\n",
    "    \n",
    "**Desktop  Documents  Downloads  Music  Pictures  Public  Templates  Videos**"
   ]
  },
  {
   "cell_type": "markdown",
   "metadata": {},
   "source": [
    "# Arguments\n",
    "\n",
    "\n",
    "**command [options…] [arguments…]**\n",
    "\n",
    "An argument can be used to specify something for the command to act upon. The ls command can be given the name of a directory as an argument, and it will list the contents of that directory. In the next example, the Documents directory will be used as an argument:"
   ]
  },
  {
   "cell_type": "markdown",
   "metadata": {},
   "source": [
    "**sysadmin@localhost:~$ ls Documents**\n",
    "    \n",
    "|   \t|   \t|   \t|   \t|   \t|\n",
    "|---\t|---\t|---\t|---\t|---\t|\n",
    "|   School\t|   alpha-second.txt\t|   food.txt\t|   linux.txt\t|   os.csv\t|\n",
    "|   Work\t|   alpha-third.txt\t|   hello.sh\t|   longfile.txt\t|   people.csv \t|\n",
    "|   adjectives.txt\t|   alpha.txt\t|   hidden.txt\t|   newhome.txt \t|   profile.txt\t|\n",
    "|   alpha-first.txt \t|   animals.txt\t|   letters.txt\t|   numbers.txt\t|   red.txt\t|"
   ]
  },
  {
   "cell_type": "markdown",
   "metadata": {},
   "source": [
    "The resulting output is a list of files contained with the Documents directory.\n",
    "\n",
    "Because Linux is open source, there are some interesting secrets that have been added by developers. For example, the aptitude command is a package management tool available on some Linux distributions. This command will accept moo as an argument:"
   ]
  },
  {
   "cell_type": "markdown",
   "metadata": {},
   "source": [
    "sysadmin@localhost:~$ aptitude moo  \n",
    "\n",
    "There are no Easter Eggs in this program."
   ]
  },
  {
   "cell_type": "markdown",
   "metadata": {},
   "source": [
    "There is more to this trick than meets the eye, keep reading!"
   ]
  },
  {
   "cell_type": "markdown",
   "metadata": {},
   "source": [
    "# Options\n",
    "\n",
    "**command [options…] [arguments…]**\n",
    "\n",
    "Options can be used to alter the behavior of a command. On the previous page, the <mark>ls</mark> command was used to list the contents of a directory. In the following example, the <mark>-l</mark> option is provided to the <mark>ls</mark> command, which results in a \"long display\" output, meaning the output gives more information about each of the files listed:"
   ]
  },
  {
   "cell_type": "markdown",
   "metadata": {},
   "source": [
    "sysadmin@localhost:~$ ls -l\n",
    "\n",
    "total 32\n",
    "drwx------ 2 sysadmin sysadmin 4096 Dec 20  2017 Desktop                        \n",
    "drwx------ 4 sysadmin sysadmin 4096 Dec 20  2017 Documents                      \n",
    "drwx------ 2 sysadmin sysadmin 4096 Dec 20  2017 Downloads                      \n",
    "drwx------ 2 sysadmin sysadmin 4096 Dec 20  2017 Music                          \n",
    "drwx------ 2 sysadmin sysadmin 4096 Dec 20  2017 Pictures                       \n",
    "drwx------ 2 sysadmin sysadmin 4096 Dec 20  2017 Public                         \n",
    "drwx------ 2 sysadmin sysadmin 4096 Dec 20  2017 Templates                      \n",
    "drwx------ 2 sysadmin sysadmin 4096 Dec 20  2017 Videos"
   ]
  },
  {
   "cell_type": "markdown",
   "metadata": {},
   "source": [
    "<mark>Note that, in the command above, -l is a lowercase letter \"L\"."
   ]
  },
  {
   "cell_type": "markdown",
   "metadata": {},
   "source": [
    "Often the character is chosen to be mnemonic for its purpose, like choosing the letter l for long or r for reverse. By default, the <mark>ls</mark> command prints the results in alphabetical order, so adding the <mark>-r</mark> option will print the results in reverse alphabetical order.\n",
    "\n",
    "**sysadmin@localhost:~$ ls -r**\n",
    "\n",
    "Videos  Templates  Public  Pictures  Music  Downloads  Documents  Desktop\n",
    "\n",
    "Multiple options can be used at once, either given as separate options as in <mark>-l -r</mark> or combined like <mark>-lr</mark>. The output of all of these examples would be the same:"
   ]
  },
  {
   "cell_type": "markdown",
   "metadata": {},
   "source": [
    "####           ls -l -r\n",
    "####       ls -rl\n",
    "####    - ls -lr\n"
   ]
  },
  {
   "cell_type": "markdown",
   "metadata": {},
   "source": [
    "As explained above, -l gives a long listing format while -r reverses the listing. The result of using both options is a long listing given in reverse order:\n",
    "\n",
    "sysadmin@localhost:~$ ls -l -r\n",
    "\n",
    "total 32\n",
    "drwx------ 2 sysadmin sysadmin 4096 Dec 20  2017 Videos                         \n",
    "drwx------ 2 sysadmin sysadmin 4096 Dec 20  2017 Templates                      \n",
    "drwx------ 2 sysadmin sysadmin 4096 Dec 20  2017 Public                         \n",
    "drwx------ 2 sysadmin sysadmin 4096 Dec 20  2017 Pictures                       \n",
    "drwx------ 2 sysadmin sysadmin 4096 Dec 20  2017 Music                          \n",
    "drwx------ 2 sysadmin sysadmin 4096 Dec 20  2017 Downloads                      \n",
    "drwx------ 4 sysadmin sysadmin 4096 Dec 20  2017 Documents                      \n",
    "drwx------ 2 sysadmin sysadmin 4096 Dec 20  2017 Desktop   \n",
    "\n",
    "sysadmin@localhost:~$ ls -rl\n",
    "\n",
    "total 32\n",
    "drwx------ 2 sysadmin sysadmin 4096 Dec 20  2017 Videos                         \n",
    "drwx------ 2 sysadmin sysadmin 4096 Dec 20  2017 Templates                      \n",
    "drwx------ 2 sysadmin sysadmin 4096 Dec 20  2017 Public                         \n",
    "drwx------ 2 sysadmin sysadmin 4096 Dec 20  2017 Pictures                       \n",
    "drwx------ 2 sysadmin sysadmin 4096 Dec 20  2017 Music                          \n",
    "drwx------ 2 sysadmin sysadmin 4096 Dec 20  2017 Downloads                      \n",
    "drwx------ 4 sysadmin sysadmin 4096 Dec 20  2017 Documents                      \n",
    "drwx------ 2 sysadmin sysadmin 4096 Dec 20  2017 Desktop "
   ]
  },
  {
   "cell_type": "markdown",
   "metadata": {},
   "source": [
    "Ultimately, commands can use many combinations of options and arguments. The possibilities for each command will be unique. Remember the aptitude easter egg?\n",
    "\n",
    "<mark>sysadmin@localhost:~$ aptitude moo</mark>\n",
    "\n",
    "<mark>There are no Easter Eggs in this program.</mark>\n",
    "\n",
    "It is possible to alter the behavior of this command using options. See what happens when the -v (verbose) option is added:\n",
    "\n",
    "<mark>sysadmin@localhost:~$ aptitude -v moo</mark>\n",
    "    \n",
    "<mark>There really are no Easter Eggs in this program.</mark>\n",
    "    \n",
    "By combining multiple -v options, we can get a variety of responses:\n",
    "\n",
    "<mark>sysadmin@localhost:~$ aptitude -vv moo</mark>\n",
    "\n",
    "<mark>Didn't I already tell you that there are no Easter Eggs in this program?</mark>\n",
    "\n",
    "<mark>sysadmin@localhost:~$ aptitude -vvv moo</mark>\n",
    "<mark>Stop it!</mark>\n",
    "    \n",
    "    \n",
    "Remember multiple options can be denoted separately or combined:\n",
    "\n",
    "aptitude -v -v moo\n",
    "\n",
    "aptitude -vv moo\n",
    "\n",
    "Keep adding -v options to see how many unique responses you can get!"
   ]
  },
  {
   "cell_type": "markdown",
   "metadata": {},
   "source": []
  },
  {
   "cell_type": "code",
   "execution_count": null,
   "metadata": {},
   "outputs": [],
   "source": []
  }
 ],
 "metadata": {
  "kernelspec": {
   "display_name": "Python 3",
   "language": "python",
   "name": "python3"
  },
  "language_info": {
   "codemirror_mode": {
    "name": "ipython",
    "version": 3
   },
   "file_extension": ".py",
   "mimetype": "text/x-python",
   "name": "python",
   "nbconvert_exporter": "python",
   "pygments_lexer": "ipython3",
   "version": "3.7.5"
  }
 },
 "nbformat": 4,
 "nbformat_minor": 2
}
