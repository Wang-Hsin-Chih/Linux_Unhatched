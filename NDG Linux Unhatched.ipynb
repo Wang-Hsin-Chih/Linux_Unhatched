{
 "cells": [
  {
   "cell_type": "markdown",
   "metadata": {},
   "source": [
    "# NDG Linux Unhatched - NDG Linux Unhatched"
   ]
  },
  {
   "cell_type": "markdown",
   "metadata": {},
   "source": [
    "Welcome!\n",
    "Hello, and welcome to the NDG Linux Unhatched Module! We are very excited to offer you this short introduction to the world of Linux. Before you get started, we would like to take the opportunity to explain the intent and scope of this module.\n",
    "\n",
    "- Do not be concerned if you have little or no Linux experience. This module is designed as an introduction for beginning learners without previous Linux training. If you find this material useful, you may consider continuing with our NDG Linux Essentials or NDG Introduction to Linux courses to build additional knowledge. Additional information regarding these courses can be found at the end of this module.\n",
    "\n",
    "- As you may already be aware, the Linux kernel has found its way into an incredible number of diverse systems. It can now be found in everything from automobiles to rockets, watches to televisions, and netbooks to the fastest supercomputers. Linux only accounts for a relatively small percentage of the operating systems found on desktop computers, but has gained widespread use in servers, Internet of Things (IoT) devices, networking equipment, smartphones, and many other devices you may not think of as even being computers. From the home router providing your Internet connection to the server this course is hosted on, it is likely that multiple Linux powered devices are currently enabling you to read this page.\n",
    "\n",
    "- We hope that you find the NDG Linux Unhatched Module helpful. Congratulations on taking your first steps into the world of Linux!"
   ]
  },
  {
   "cell_type": "markdown",
   "metadata": {},
   "source": [
    "![](./images/1_1.png)"
   ]
  },
  {
   "cell_type": "code",
   "execution_count": null,
   "metadata": {},
   "outputs": [],
   "source": []
  }
 ],
 "metadata": {
  "kernelspec": {
   "display_name": "Python 3",
   "language": "python",
   "name": "python3"
  },
  "language_info": {
   "codemirror_mode": {
    "name": "ipython",
    "version": 3
   },
   "file_extension": ".py",
   "mimetype": "text/x-python",
   "name": "python",
   "nbconvert_exporter": "python",
   "pygments_lexer": "ipython3",
   "version": "3.7.5"
  }
 },
 "nbformat": 4,
 "nbformat_minor": 2
}
