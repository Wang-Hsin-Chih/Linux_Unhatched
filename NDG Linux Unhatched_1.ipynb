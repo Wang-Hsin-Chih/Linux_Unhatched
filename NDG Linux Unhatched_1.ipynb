{
 "cells": [
  {
   "cell_type": "markdown",
   "metadata": {},
   "source": [
    "# NDG Linux Unhatched - NDG Linux Unhatched"
   ]
  },
  {
   "cell_type": "markdown",
   "metadata": {},
   "source": [
    "Welcome!\n",
    "Hello, and welcome to the NDG Linux Unhatched Module! We are very excited to offer you this short introduction to the world of Linux. Before you get started, we would like to take the opportunity to explain the intent and scope of this module.\n",
    "\n",
    "- Do not be concerned if you have little or no Linux experience. This module is designed as an introduction for beginning learners without previous Linux training. If you find this material useful, you may consider continuing with our NDG Linux Essentials or NDG Introduction to Linux courses to build additional knowledge. Additional information regarding these courses can be found at the end of this module.\n",
    "\n",
    "- As you may already be aware, the Linux kernel has found its way into an incredible number of diverse systems. It can now be found in everything from automobiles to rockets, watches to televisions, and netbooks to the fastest supercomputers. Linux only accounts for a relatively small percentage of the operating systems found on desktop computers, but has gained widespread use in servers, Internet of Things (IoT) devices, networking equipment, smartphones, and many other devices you may not think of as even being computers. From the home router providing your Internet connection to the server this course is hosted on, it is likely that multiple Linux powered devices are currently enabling you to read this page.\n",
    "\n",
    "- We hope that you find the NDG Linux Unhatched Module helpful. Congratulations on taking your first steps into the world of Linux!"
   ]
  },
  {
   "cell_type": "markdown",
   "metadata": {},
   "source": [
    "![](./images/1_1.png)"
   ]
  },
  {
   "cell_type": "markdown",
   "metadata": {},
   "source": [
    "# Why Learn Linux?\n",
    "\n",
    "The field of Information Technology (IT) is full of opportunities. For individuals who wish to pursue a career in IT, one of the biggest challenges can be deciding how to get started. Often, people are motivated to learn new skills that will enable them to pursue bigger and better opportunities in both their personal and professional lives. Learning a new skill takes time and discipline, but with the right motivation, it doesn’t have to be painful. In this section, we will discuss why the time and effort you invest in learning Linux will be beneficial to you; and remember, everyone working in IT had to start somewhere.\n",
    "\n",
    "Learning Linux is a great way to start! Why is Linux an important skill to learn in today’s technology-driven world?"
   ]
  },
  {
   "cell_type": "markdown",
   "metadata": {},
   "source": [
    "# What is Linux?\n",
    "\n",
    "Before we determine what makes Linux such a great asset to your skill-set, let’s define it first. Linux is operating system software that runs on a hardware computer system. An operating system is software that allows other programs like word processors and web browsers to be installed and run on a computer.\n",
    "\n",
    "Your cell phone, tablet, laptop and desktop all need an operating system to run the software (often called applications) you want to use. This means that Linux is not limited to only desktops and laptops, and we will expand on that as we continue our discussion.\n",
    "\n",
    "The main reason why learning Linux is useful is that Linux is used almost everywhere! Linux is used on desktop and laptop computers, web servers, mobile devices (Android), public cloud technology (i.e., Google, Amazon, etc), Chromebooks, and networking (i.e., Cisco Networks). Although you may not have ever used Linux on a desktop or laptop, **<font> it is likely that you are using other technology that runs on Linux </font>** such as a mobile phone running Android, a tablet or popular websites such as Facebook, Twitter, and Amazon. In fact, it is estimated that servers running Linux generate over half of the web pages on the internet."
   ]
  },
  {
   "cell_type": "markdown",
   "metadata": {},
   "source": [
    "# Who can use Linux?\n",
    "\n",
    "You may have heard of Linux and thought that only technologically advanced individuals are using it for programming, developing, or maybe even hacking! Although it is true that many techies use Linux, that doesn’t mean Linux is too difficult to learn or isn’t useful for beginners.\n",
    "\n",
    "In fact, understanding Linux, especially the Linux command line interface, will help you understand computing better while giving you **<font color = red>basic computing skills that you can use in a future career</font>**."
   ]
  },
  {
   "cell_type": "markdown",
   "metadata": {},
   "source": [
    "To understand why Linux skills are unique, let’s examine the graphical user interface (GUI). This is the interface that you are probably using on your smartphone, tablet or computer today. A GUI displays icons and images that you can select to tell your device what you want to do or use. Behind the GUI, is a code that a programmer developed. When you click on an icon or folder in a GUI, it sends a command to the code telling the system what to do.\n",
    "\n",
    "![](./images/1-1.gif)"
   ]
  },
  {
   "cell_type": "markdown",
   "metadata": {},
   "source": [
    "Linux desktops use a GUI but it also has a more efficient tool for carrying out the same actions as a GUI, the command-line interface (CLI).\n",
    "\n",
    "![](./images/1-2.gif)"
   ]
  },
  {
   "cell_type": "markdown",
   "metadata": {},
   "source": [
    "<html>\n",
    "<head>\n",
    "    <style>\n",
    "        .content{\n",
    "            background-color: #FF0000;\n",
    "                }    \n",
    "\n",
    "    </style>\n",
    "</head>\n",
    "\n",
    "<body>\n",
    "\n",
    "<div class=\"content\">\n",
    "    \n",
    "The Linux command-line is a text-based interface that accepts commands that you type into it. These commands cause an action to be executed onto the computer system’s operating system. Of course, windows and icons are easy to use, however, the command-line is often the hero when it comes to system administration and troubleshooting as it gives a clear picture of what the system is doing at any given moment.\n",
    "\n",
    "All this considered, why is learning Linux a good start for someone considering a career in IT? As previously stated, the use of Linux is widespread and is continuing to grow in all areas of technology. What do companies and organizations like NASA, McDonald's, New York Stock Exchange (NYSE), DreamWorks Animation, and the US Department of Defense all have in common? Yes, you guessed correctly, they all use Linux.\n",
    "\n",
    "These companies have something else in common in that they recognize that investing in technology is important in a world that is anxious to adopt new technology to innovate and solve problems. The proliferation of tech in almost every aspect of life has solved many problems but has also created some new challenges. For example, now that almost everything can be done online, we are creating digital data at a rapid rate, which is creating a demand for that data. Technical skills to analyze, process, protect, and transmit data are therefore also in high demand. Learning Linux can help you on the journey towards acquiring these skills. The following are examples of a few IT professions that require knowledge of Linux skills:\n",
    "\n",
    "- **<font>Network Engineering<font>** - Network engineers are responsible for managing the network computers use to transmit data. Knowledge of Linux is critical for network engineers since more than half of the world’s servers are Linux-based. Most network operating systems are based on a variation of Linux.\n",
    "\n",
    "- **<font>Cybersecurity<font>** - Cybersecurity professionals monitor and investigate security threats to data on systems. Linux is used in cybersecurity to carry out system penetration testing and assess the vulnerability of a system.\n",
    "\n",
    "- **<font>Developing/Programming<font>** - Developers and programmers design computer applications. The Linux command-line allows developers and programmers to script; a function that allows a user to put commands together to execute complex actions on a computer. Linux is also used in this field because only Linux allows users to access its source code, giving users the ability to experiment with the code and learn by doing.\n",
    "\n",
    "- **<font>Data Analysis<font>** - Data analysts and scientists sort and analyze data sets to find patterns in order to report and predict trends and behavior. Data analysts use Linux due to the wide array of tools and commands available for data analysis, such as MySQL and more.\n",
    "\n",
    "Linux operating systems come in many forms. There is a variety of distributions available to fit the needs and demands of many IT sectors. For example, cybersecurity professionals may use Linux Kali, developers may use Linux Ubuntu, regular users may use Linux Mint, and enterprise servers can run on Red Hat Enterprise Linux.\n",
    "\n",
    "</div>\n",
    "\n",
    "</body>\n",
    "\n",
    "</html>"
   ]
  },
  {
   "cell_type": "markdown",
   "metadata": {},
   "source": [
    "<font>**The Linux command-line is a text-based interface that accepts commands that you type into it<font>**. These commands cause an action to be executed onto the computer system’s operating system. Of course, windows and icons are easy to use, however, the command-line is often the hero when it comes to system administration and troubleshooting as it gives a clear picture of what the system is doing at any given moment.\n",
    "\n",
    "All this considered, why is learning Linux a good start for someone considering a career in IT? As previously stated, the use of Linux is widespread and is continuing to grow in all areas of technology. What do companies and organizations like NASA, McDonald's, New York Stock Exchange (NYSE), DreamWorks Animation, and the US Department of Defense all have in common? Yes, you guessed correctly, they all use Linux.\n",
    "\n",
    "These companies have something else in common in that they recognize that investing in technology is important in a world that is anxious to adopt new technology to innovate and solve problems. The proliferation of tech in almost every aspect of life has solved many problems but has also created some new challenges. For example, now that almost everything can be done online, we are creating digital data at a rapid rate, which is creating a demand for that data. **<font>Technical skills to analyze, process, protect, and transmit data are therefore also in high demand<font>**. Learning Linux can help you on the journey towards acquiring these skills. The following are examples of a few IT professions that require knowledge of Linux skills:\n",
    "\n",
    "- <font>**Network Engineering<font>** - Network engineers are responsible for managing the network computers use to transmit data. Knowledge of Linux is critical for network engineers since more than half of the world’s servers are Linux-based. Most network operating systems are based on a variation of Linux.\n",
    "\n",
    "- <font>**Cybersecurity<font>** - Cybersecurity professionals monitor and investigate security threats to data on systems. Linux is used in cybersecurity to carry out system penetration testing and assess the vulnerability of a system.\n",
    "\n",
    "- <font>**Developing/Programming<font>** - Developers and programmers design computer applications. The Linux command-line allows developers and programmers to script; a function that allows a user to put commands together to execute complex actions on a computer. Linux is also used in this field because only Linux allows users to access its source code, giving users the ability to experiment with the code and learn by doing.\n",
    "\n",
    "- <font>**Data Analysis<font>** - Data analysts and scientists sort and analyze data sets to find patterns in order to report and predict trends and behavior. Data analysts use Linux due to the wide array of tools and commands available for data analysis, such as MySQL and more.\n",
    "\n",
    "Linux operating systems come in many forms. There is a variety of distributions available to fit the needs and demands of many IT sectors. For example, cybersecurity professionals may use Linux Kali, developers may use Linux Ubuntu, regular users may use Linux Mint, and enterprise servers can run on Red Hat Enterprise Linux.\n"
   ]
  },
  {
   "cell_type": "markdown",
   "metadata": {},
   "source": [
    "**<font>Consider This<font>**\n",
    "\n",
    "Linux skills are needed for many IT professional tracks. For example, knowledge of basic Linux commands is a prerequisite for IT certification programs like the popular Cisco Certified CyberOps Associate certification. To learn more about how Linux applies to Cisco Certified CyberOps Associate, visit the section at the end of this course called Linux for Cisco Certified CyberOps Associate."
   ]
  },
  {
   "cell_type": "markdown",
   "metadata": {},
   "source": [
    "A few other great reasons to use and learn Linux are that, in many cases, it is **<font>free, easy to install, open source, and there is an active Linux community available for support<font>**. This allows beginners who want to start growing their IT skills to start using Linux easily.\n",
    "\n",
    "As you can see, there are many reasons to learn and explore Linux!"
   ]
  },
  {
   "cell_type": "code",
   "execution_count": null,
   "metadata": {},
   "outputs": [],
   "source": []
  }
 ],
 "metadata": {
  "kernelspec": {
   "display_name": "Python 3",
   "language": "python",
   "name": "python3"
  },
  "language_info": {
   "codemirror_mode": {
    "name": "ipython",
    "version": 3
   },
   "file_extension": ".py",
   "mimetype": "text/x-python",
   "name": "python",
   "nbconvert_exporter": "python",
   "pygments_lexer": "ipython3",
   "version": "3.7.5"
  }
 },
 "nbformat": 4,
 "nbformat_minor": 2
}
